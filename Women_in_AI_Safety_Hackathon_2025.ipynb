{
  "cells": [
    {
      "cell_type": "markdown",
      "metadata": {
        "id": "view-in-github",
        "colab_type": "text"
      },
      "source": [
        "<a href=\"https://colab.research.google.com/github/pearlescence-m/apart-hackathon/blob/main/Women_in_AI_Safety_Hackathon_2025.ipynb\" target=\"_parent\"><img src=\"https://colab.research.google.com/assets/colab-badge.svg\" alt=\"Open In Colab\"/></a>"
      ]
    },
    {
      "cell_type": "markdown",
      "metadata": {
        "id": "GygpZbSZF56r"
      },
      "source": [
        "# Searching for Universality and Equivariance in LLMs using Sparse Autoencoder Found Features"
      ]
    },
    {
      "cell_type": "markdown",
      "metadata": {
        "id": "n98Mi1fK93kS"
      },
      "source": [
        "by Meruyert Alimaganbetova and Jason Zeng\n"
      ]
    },
    {
      "cell_type": "code",
      "execution_count": 1,
      "metadata": {
        "id": "-lmNwVLtF56t",
        "colab": {
          "base_uri": "https://localhost:8080/"
        },
        "outputId": "6fe0313b-f2c4-4b64-9a1a-6a789402a6f4"
      },
      "outputs": [
        {
          "output_type": "stream",
          "name": "stdout",
          "text": [
            "\u001b[2K     \u001b[90m━━━━━━━━━━━━━━━━━━━━━━━━━━━━━━━━━━━━━━━━\u001b[0m \u001b[32m62.0/62.0 kB\u001b[0m \u001b[31m738.6 kB/s\u001b[0m eta \u001b[36m0:00:00\u001b[0m\n",
            "\u001b[2K   \u001b[90m━━━━━━━━━━━━━━━━━━━━━━━━━━━━━━━━━━━━━━━━\u001b[0m \u001b[32m76.4/76.4 kB\u001b[0m \u001b[31m3.4 MB/s\u001b[0m eta \u001b[36m0:00:00\u001b[0m\n",
            "\u001b[2K   \u001b[90m━━━━━━━━━━━━━━━━━━━━━━━━━━━━━━━━━━━━━━━━\u001b[0m \u001b[32m139.8/139.8 kB\u001b[0m \u001b[31m5.0 MB/s\u001b[0m eta \u001b[36m0:00:00\u001b[0m\n",
            "\u001b[2K   \u001b[90m━━━━━━━━━━━━━━━━━━━━━━━━━━━━━━━━━━━━━━━━\u001b[0m \u001b[32m37.6/37.6 MB\u001b[0m \u001b[31m18.1 MB/s\u001b[0m eta \u001b[36m0:00:00\u001b[0m\n",
            "\u001b[2K   \u001b[90m━━━━━━━━━━━━━━━━━━━━━━━━━━━━━━━━━━━━━━━━\u001b[0m \u001b[32m2.3/2.3 MB\u001b[0m \u001b[31m51.6 MB/s\u001b[0m eta \u001b[36m0:00:00\u001b[0m\n",
            "\u001b[2K   \u001b[90m━━━━━━━━━━━━━━━━━━━━━━━━━━━━━━━━━━━━━━━━\u001b[0m \u001b[32m1.6/1.6 MB\u001b[0m \u001b[31m45.3 MB/s\u001b[0m eta \u001b[36m0:00:00\u001b[0m\n",
            "\u001b[?25h\u001b[31mERROR: pip's dependency resolver does not currently take into account all the packages that are installed. This behaviour is the source of the following dependency conflicts.\n",
            "gensim 4.3.3 requires scipy<1.14.0,>=1.7.0, but you have scipy 1.15.2 which is incompatible.\u001b[0m\u001b[31m\n",
            "\u001b[2K   \u001b[90m━━━━━━━━━━━━━━━━━━━━━━━━━━━━━━━━━━━━━━━━\u001b[0m \u001b[32m485.4/485.4 kB\u001b[0m \u001b[31m9.2 MB/s\u001b[0m eta \u001b[36m0:00:00\u001b[0m\n",
            "\u001b[2K   \u001b[90m━━━━━━━━━━━━━━━━━━━━━━━━━━━━━━━━━━━━━━━━\u001b[0m \u001b[32m116.3/116.3 kB\u001b[0m \u001b[31m8.0 MB/s\u001b[0m eta \u001b[36m0:00:00\u001b[0m\n",
            "\u001b[2K   \u001b[90m━━━━━━━━━━━━━━━━━━━━━━━━━━━━━━━━━━━━━━━━\u001b[0m \u001b[32m143.5/143.5 kB\u001b[0m \u001b[31m9.3 MB/s\u001b[0m eta \u001b[36m0:00:00\u001b[0m\n",
            "\u001b[2K   \u001b[90m━━━━━━━━━━━━━━━━━━━━━━━━━━━━━━━━━━━━━━━━\u001b[0m \u001b[32m194.8/194.8 kB\u001b[0m \u001b[31m12.1 MB/s\u001b[0m eta \u001b[36m0:00:00\u001b[0m\n",
            "\u001b[?25h"
          ]
        }
      ],
      "source": [
        "!pip install goodfire --quiet\n",
        "!pip install datasets --quiet\n"
      ]
    },
    {
      "cell_type": "code",
      "execution_count": 2,
      "metadata": {
        "id": "FjOS55IMoIIj"
      },
      "outputs": [],
      "source": [
        "from google.colab import userdata\n",
        "\n",
        "# Add your Goodfire API Key to your Colab secrets\n",
        "GOODFIRE_API_KEY = userdata.get('goodfire-api')"
      ]
    },
    {
      "cell_type": "code",
      "execution_count": 3,
      "metadata": {
        "id": "TE9wY2GkF56u"
      },
      "outputs": [],
      "source": [
        "import goodfire\n",
        "\n",
        "client = goodfire.Client(GOODFIRE_API_KEY)\n",
        "\n",
        "# Instantiate a model variant\n",
        "variant = goodfire.Variant(\"meta-llama/Meta-Llama-3.1-8B-Instruct\")"
      ]
    },
    {
      "cell_type": "markdown",
      "source": [
        "### Search for universailty in features between Llama 8B and Llama 70B"
      ],
      "metadata": {
        "id": "3EpyRU1ZieOg"
      }
    },
    {
      "cell_type": "code",
      "source": [
        "variant.reset()\n",
        "phrases = [\"The cat sat on the mat\", \"A feline rested on the rug\", \"The cat is sitting on the floor\"]\n",
        "all_features = []\n",
        "\n",
        "for i in phrases:\n",
        "  features = client.features.search(i, model=variant, top_k=10)\n",
        "  feat_json = features.json()\n",
        "  all_features.append(feat_json)\n",
        "\n",
        "all_features"
      ],
      "metadata": {
        "colab": {
          "base_uri": "https://localhost:8080/"
        },
        "id": "gOU1X65eX7Rv",
        "outputId": "921af181-2805-4807-916d-9df93792a7a6"
      },
      "execution_count": 16,
      "outputs": [
        {
          "output_type": "execute_result",
          "data": {
            "text/plain": [
              "[{'features': [{'uuid': 'c2ad8818b7264827b19e8d18086c060f',\n",
              "    'label': 'Detailed descriptions of cat characteristics and behaviors',\n",
              "    'index_in_sae': 35836,\n",
              "    'max_activation_strength': 1},\n",
              "   {'uuid': 'e1ddef9d206541b6b534eec8738e64ae',\n",
              "    'label': 'Cats as a central topic or theme',\n",
              "    'index_in_sae': 52919,\n",
              "    'max_activation_strength': 1},\n",
              "   {'uuid': '71a5d08aa31d4cb08693f33a579cdb00',\n",
              "    'label': 'The physical act of sitting',\n",
              "    'index_in_sae': 48577,\n",
              "    'max_activation_strength': 1},\n",
              "   {'uuid': 'a0bdcfca4ec04c99a3c431093c2be55b',\n",
              "    'label': \"The character sequence 'pet' regardless of semantic meaning or language context\",\n",
              "    'index_in_sae': 15,\n",
              "    'max_activation_strength': 1},\n",
              "   {'uuid': '086642ee538046908cda0999650ddc8b',\n",
              "    'label': \"The substring 'cat' appearing within words across different languages\",\n",
              "    'index_in_sae': 48228,\n",
              "    'max_activation_strength': 1},\n",
              "   {'uuid': '2d2c25d9505e4e829f753bae68a94bfe',\n",
              "    'label': \"The canonical English pangram 'The quick brown fox jumps over the lazy dog'\",\n",
              "    'index_in_sae': 51341,\n",
              "    'max_activation_strength': 1},\n",
              "   {'uuid': '644a9110976e4a98b6ba5f1321298c1b',\n",
              "    'label': 'Loyal companionship in descriptions of pets',\n",
              "    'index_in_sae': 24611,\n",
              "    'max_activation_strength': 1},\n",
              "   {'uuid': '14e2000765a0418b9574b477048283f6',\n",
              "    'label': 'Narrative descriptions of the act of sitting down or adjusting seating position',\n",
              "    'index_in_sae': 31835,\n",
              "    'max_activation_strength': 1},\n",
              "   {'uuid': '297a7a8c3f974e97aa2d7238648ce956',\n",
              "    'label': 'Characters sitting together in contemplative silence',\n",
              "    'index_in_sae': 29030,\n",
              "    'max_activation_strength': 1},\n",
              "   {'uuid': '95c2b1cecf2d4024a019274afa515a0d',\n",
              "    'label': 'Inappropriate physical contact involving sitting on laps',\n",
              "    'index_in_sae': 15302,\n",
              "    'max_activation_strength': 1}]},\n",
              " {'features': [{'uuid': 'c2ad8818b7264827b19e8d18086c060f',\n",
              "    'label': 'Detailed descriptions of cat characteristics and behaviors',\n",
              "    'index_in_sae': 35836,\n",
              "    'max_activation_strength': 1},\n",
              "   {'uuid': 'e1ddef9d206541b6b534eec8738e64ae',\n",
              "    'label': 'Cats as a central topic or theme',\n",
              "    'index_in_sae': 52919,\n",
              "    'max_activation_strength': 1},\n",
              "   {'uuid': '4aeada31fb504f22bd824bfbf4c4aec8',\n",
              "    'label': 'Descriptions of cute, slow-moving herbivorous mammals and their lazy behaviors',\n",
              "    'index_in_sae': 16246,\n",
              "    'max_activation_strength': 1},\n",
              "   {'uuid': '644a9110976e4a98b6ba5f1321298c1b',\n",
              "    'label': 'Loyal companionship in descriptions of pets',\n",
              "    'index_in_sae': 24611,\n",
              "    'max_activation_strength': 1},\n",
              "   {'uuid': 'd6d199758d754c0c80308f2e8aa2b475',\n",
              "    'label': 'Formal descriptions of domesticated animals and their relationships with humans',\n",
              "    'index_in_sae': 48373,\n",
              "    'max_activation_strength': 1},\n",
              "   {'uuid': '30363d0edb6147b3ba60c5d6d2471508',\n",
              "    'label': 'The assistant is suggesting calming activities for relaxation or sleep',\n",
              "    'index_in_sae': 19932,\n",
              "    'max_activation_strength': 1},\n",
              "   {'uuid': '09896ac828b145a681e3fc8d2dc2be7d',\n",
              "    'label': 'Model self-identification statements, particularly introducing itself as Vicuna',\n",
              "    'index_in_sae': 21802,\n",
              "    'max_activation_strength': 1},\n",
              "   {'uuid': '7ff6252d22b844a19cc207875b43425e',\n",
              "    'label': 'Warmth in contexts of comfort and coziness',\n",
              "    'index_in_sae': 19737,\n",
              "    'max_activation_strength': 1},\n",
              "   {'uuid': 'c115505c6c534a4189672c8ed0186f3c',\n",
              "    'label': 'Animal behavior sequences and ongoing actions',\n",
              "    'index_in_sae': 16524,\n",
              "    'max_activation_strength': 1},\n",
              "   {'uuid': 'a0bdcfca4ec04c99a3c431093c2be55b',\n",
              "    'label': \"The character sequence 'pet' regardless of semantic meaning or language context\",\n",
              "    'index_in_sae': 15,\n",
              "    'max_activation_strength': 1}]},\n",
              " {'features': [{'uuid': 'c2ad8818b7264827b19e8d18086c060f',\n",
              "    'label': 'Detailed descriptions of cat characteristics and behaviors',\n",
              "    'index_in_sae': 35836,\n",
              "    'max_activation_strength': 1},\n",
              "   {'uuid': 'e1ddef9d206541b6b534eec8738e64ae',\n",
              "    'label': 'Cats as a central topic or theme',\n",
              "    'index_in_sae': 52919,\n",
              "    'max_activation_strength': 1},\n",
              "   {'uuid': '71a5d08aa31d4cb08693f33a579cdb00',\n",
              "    'label': 'The physical act of sitting',\n",
              "    'index_in_sae': 48577,\n",
              "    'max_activation_strength': 1},\n",
              "   {'uuid': '2d2c25d9505e4e829f753bae68a94bfe',\n",
              "    'label': \"The canonical English pangram 'The quick brown fox jumps over the lazy dog'\",\n",
              "    'index_in_sae': 51341,\n",
              "    'max_activation_strength': 1},\n",
              "   {'uuid': 'c115505c6c534a4189672c8ed0186f3c',\n",
              "    'label': 'Animal behavior sequences and ongoing actions',\n",
              "    'index_in_sae': 16524,\n",
              "    'max_activation_strength': 1},\n",
              "   {'uuid': '95c2b1cecf2d4024a019274afa515a0d',\n",
              "    'label': 'Inappropriate physical contact involving sitting on laps',\n",
              "    'index_in_sae': 15302,\n",
              "    'max_activation_strength': 1},\n",
              "   {'uuid': '14e2000765a0418b9574b477048283f6',\n",
              "    'label': 'Narrative descriptions of the act of sitting down or adjusting seating position',\n",
              "    'index_in_sae': 31835,\n",
              "    'max_activation_strength': 1},\n",
              "   {'uuid': '2fef9c6513d446dabfc5aac0b00a26ff',\n",
              "    'label': 'The assistant is beginning a step-by-step tutorial',\n",
              "    'index_in_sae': 65226,\n",
              "    'max_activation_strength': 1},\n",
              "   {'uuid': 'a0bdcfca4ec04c99a3c431093c2be55b',\n",
              "    'label': \"The character sequence 'pet' regardless of semantic meaning or language context\",\n",
              "    'index_in_sae': 15,\n",
              "    'max_activation_strength': 1},\n",
              "   {'uuid': '297a7a8c3f974e97aa2d7238648ce956',\n",
              "    'label': 'Characters sitting together in contemplative silence',\n",
              "    'index_in_sae': 29030,\n",
              "    'max_activation_strength': 1}]}]"
            ]
          },
          "metadata": {},
          "execution_count": 16
        }
      ]
    },
    {
      "cell_type": "code",
      "source": [
        "variant2 = goodfire.Variant(\"meta-llama/Llama-3.3-70B-Instruct\")"
      ],
      "metadata": {
        "id": "A0-IrysLaD8K"
      },
      "execution_count": 21,
      "outputs": []
    },
    {
      "cell_type": "code",
      "source": [
        "variant2.reset()\n",
        "phrases = [\"The cat sat on the mat\", \"A feline rested on the rug\", \"The cat is sitting on the floor\"]\n",
        "all_features2 = []\n",
        "\n",
        "for i in phrases:\n",
        "  features = client.features.search(i, model=variant2, top_k=10)\n",
        "  feat_json = features.json()\n",
        "  all_features2.append(feat_json)\n",
        "\n",
        "all_features2"
      ],
      "metadata": {
        "colab": {
          "base_uri": "https://localhost:8080/"
        },
        "id": "YEyfYGCvbKuW",
        "outputId": "4ef5bd22-6086-4011-d7d9-15f4afad45c6"
      },
      "execution_count": 22,
      "outputs": [
        {
          "output_type": "execute_result",
          "data": {
            "text/plain": [
              "[{'features': [{'uuid': '1b026487ff85422197e0bb75fe81b323',\n",
              "    'label': 'Descriptions of cats lounging and engaging in daily activities',\n",
              "    'index_in_sae': 37893,\n",
              "    'max_activation_strength': 1},\n",
              "   {'uuid': 'a90b3927c7dd4bc6b372d8ab8dc8492d',\n",
              "    'label': 'Content where cats are the primary subject matter',\n",
              "    'index_in_sae': 9450,\n",
              "    'max_activation_strength': 1},\n",
              "   {'uuid': '77f2170bd06141e0b2bab9ef9f28766e',\n",
              "    'label': 'Generalizing statements about cat behaviors and traits',\n",
              "    'index_in_sae': 10161,\n",
              "    'max_activation_strength': 1},\n",
              "   {'uuid': 'a1043d68b9c643a1a42e605e7d2fea4e',\n",
              "    'label': 'Grammatical constructions describing the act of sitting on furniture',\n",
              "    'index_in_sae': 33474,\n",
              "    'max_activation_strength': 1},\n",
              "   {'uuid': '5704b849f7ce4b4781d191060a5d7ef4',\n",
              "    'label': \"Character sequence 'cat' across different languages and scripts\",\n",
              "    'index_in_sae': 38349,\n",
              "    'max_activation_strength': 1},\n",
              "   {'uuid': 'e49bdee333a54330a4042a89fa9831c0',\n",
              "    'label': 'Formal sitting positions, especially cross-legged and floor-based poses',\n",
              "    'index_in_sae': 54158,\n",
              "    'max_activation_strength': 1},\n",
              "   {'uuid': 'fe95dc9c1d5e47dbb7fcf6ecb52f69c4',\n",
              "    'label': 'Animals in creative or playful contexts',\n",
              "    'index_in_sae': 20562,\n",
              "    'max_activation_strength': 1},\n",
              "   {'uuid': '59a18dc69bf54772b50e05d582020126',\n",
              "    'label': 'The quick brown fox pangram being used as sample text',\n",
              "    'index_in_sae': 33004,\n",
              "    'max_activation_strength': 1},\n",
              "   {'uuid': 'ce52efd07f284867b3a8d81dba0975d9',\n",
              "    'label': 'Pet litter boxes and litter-related pet care',\n",
              "    'index_in_sae': 53465,\n",
              "    'max_activation_strength': 1},\n",
              "   {'uuid': '99590cd828c045bd8e954badce0cb793',\n",
              "    'label': 'Detailed personification of animals in narrative text',\n",
              "    'index_in_sae': 10279,\n",
              "    'max_activation_strength': 1}]},\n",
              " {'features': [{'uuid': '1b026487ff85422197e0bb75fe81b323',\n",
              "    'label': 'Descriptions of cats lounging and engaging in daily activities',\n",
              "    'index_in_sae': 37893,\n",
              "    'max_activation_strength': 1},\n",
              "   {'uuid': 'a90b3927c7dd4bc6b372d8ab8dc8492d',\n",
              "    'label': 'Content where cats are the primary subject matter',\n",
              "    'index_in_sae': 9450,\n",
              "    'max_activation_strength': 1},\n",
              "   {'uuid': '77f2170bd06141e0b2bab9ef9f28766e',\n",
              "    'label': 'Generalizing statements about cat behaviors and traits',\n",
              "    'index_in_sae': 10161,\n",
              "    'max_activation_strength': 1},\n",
              "   {'uuid': 'a1043d68b9c643a1a42e605e7d2fea4e',\n",
              "    'label': 'Grammatical constructions describing the act of sitting on furniture',\n",
              "    'index_in_sae': 33474,\n",
              "    'max_activation_strength': 1},\n",
              "   {'uuid': 'fe95dc9c1d5e47dbb7fcf6ecb52f69c4',\n",
              "    'label': 'Animals in creative or playful contexts',\n",
              "    'index_in_sae': 20562,\n",
              "    'max_activation_strength': 1},\n",
              "   {'uuid': 'fe053b425f0c4a5b9554d6f88a804c87',\n",
              "    'label': 'Animal sound puns and wordplay in furry roleplay contexts',\n",
              "    'index_in_sae': 20365,\n",
              "    'max_activation_strength': 1},\n",
              "   {'uuid': '5704b849f7ce4b4781d191060a5d7ef4',\n",
              "    'label': \"Character sequence 'cat' across different languages and scripts\",\n",
              "    'index_in_sae': 38349,\n",
              "    'max_activation_strength': 1},\n",
              "   {'uuid': '105984c9920740d6aa44377f983f4603',\n",
              "    'label': 'Pets as loyal companions and family members',\n",
              "    'index_in_sae': 30476,\n",
              "    'max_activation_strength': 1},\n",
              "   {'uuid': '997b64fe9579414fb78012933ecdfe3b',\n",
              "    'label': 'Expressions of desire or possibility to sleep/rest',\n",
              "    'index_in_sae': 60427,\n",
              "    'max_activation_strength': 1},\n",
              "   {'uuid': 'ce52efd07f284867b3a8d81dba0975d9',\n",
              "    'label': 'Pet litter boxes and litter-related pet care',\n",
              "    'index_in_sae': 53465,\n",
              "    'max_activation_strength': 1}]},\n",
              " {'features': [{'uuid': '1b026487ff85422197e0bb75fe81b323',\n",
              "    'label': 'Descriptions of cats lounging and engaging in daily activities',\n",
              "    'index_in_sae': 37893,\n",
              "    'max_activation_strength': 1},\n",
              "   {'uuid': 'a90b3927c7dd4bc6b372d8ab8dc8492d',\n",
              "    'label': 'Content where cats are the primary subject matter',\n",
              "    'index_in_sae': 9450,\n",
              "    'max_activation_strength': 1},\n",
              "   {'uuid': 'a1043d68b9c643a1a42e605e7d2fea4e',\n",
              "    'label': 'Grammatical constructions describing the act of sitting on furniture',\n",
              "    'index_in_sae': 33474,\n",
              "    'max_activation_strength': 1},\n",
              "   {'uuid': '5704b849f7ce4b4781d191060a5d7ef4',\n",
              "    'label': \"Character sequence 'cat' across different languages and scripts\",\n",
              "    'index_in_sae': 38349,\n",
              "    'max_activation_strength': 1},\n",
              "   {'uuid': '77f2170bd06141e0b2bab9ef9f28766e',\n",
              "    'label': 'Generalizing statements about cat behaviors and traits',\n",
              "    'index_in_sae': 10161,\n",
              "    'max_activation_strength': 1},\n",
              "   {'uuid': '1d75eddff02c449baa38abfb2f41fcea',\n",
              "    'label': 'The position of being on all fours or hands and knees',\n",
              "    'index_in_sae': 23322,\n",
              "    'max_activation_strength': 1},\n",
              "   {'uuid': 'e49bdee333a54330a4042a89fa9831c0',\n",
              "    'label': 'Formal sitting positions, especially cross-legged and floor-based poses',\n",
              "    'index_in_sae': 54158,\n",
              "    'max_activation_strength': 1},\n",
              "   {'uuid': 'ce52efd07f284867b3a8d81dba0975d9',\n",
              "    'label': 'Pet litter boxes and litter-related pet care',\n",
              "    'index_in_sae': 53465,\n",
              "    'max_activation_strength': 1},\n",
              "   {'uuid': 'a3a363fba98c4058a94daca1644afa7d',\n",
              "    'label': 'Person lying down or in reclined position',\n",
              "    'index_in_sae': 36626,\n",
              "    'max_activation_strength': 1},\n",
              "   {'uuid': '59a18dc69bf54772b50e05d582020126',\n",
              "    'label': 'The quick brown fox pangram being used as sample text',\n",
              "    'index_in_sae': 33004,\n",
              "    'max_activation_strength': 1}]}]"
            ]
          },
          "metadata": {},
          "execution_count": 22
        }
      ]
    },
    {
      "cell_type": "code",
      "source": [
        "# Extract labels from the first JSON\n",
        "first_json_labels = []\n",
        "for group in all_features:\n",
        "    for feature in group['features']:\n",
        "        first_json_labels.append(feature['label'])\n",
        "\n",
        "# Extract labels from the second JSON\n",
        "second_json_labels = []\n",
        "for group in all_features2:\n",
        "    for feature in group['features']:\n",
        "        second_json_labels.append(feature['label'])\n",
        "\n",
        "# Print the extracted labels\n",
        "print(\"First JSON labels:\", first_json_labels)\n",
        "print(\"Second JSON labels:\", second_json_labels)"
      ],
      "metadata": {
        "colab": {
          "base_uri": "https://localhost:8080/"
        },
        "id": "5hSoR8BVm-9m",
        "outputId": "a168a2c2-1e62-40ea-ce45-ab46eb8917d4"
      },
      "execution_count": 23,
      "outputs": [
        {
          "output_type": "stream",
          "name": "stdout",
          "text": [
            "First JSON labels: ['Detailed descriptions of cat characteristics and behaviors', 'Cats as a central topic or theme', 'The physical act of sitting', \"The character sequence 'pet' regardless of semantic meaning or language context\", \"The substring 'cat' appearing within words across different languages\", \"The canonical English pangram 'The quick brown fox jumps over the lazy dog'\", 'Loyal companionship in descriptions of pets', 'Narrative descriptions of the act of sitting down or adjusting seating position', 'Characters sitting together in contemplative silence', 'Inappropriate physical contact involving sitting on laps', 'Detailed descriptions of cat characteristics and behaviors', 'Cats as a central topic or theme', 'Descriptions of cute, slow-moving herbivorous mammals and their lazy behaviors', 'Loyal companionship in descriptions of pets', 'Formal descriptions of domesticated animals and their relationships with humans', 'The assistant is suggesting calming activities for relaxation or sleep', 'Model self-identification statements, particularly introducing itself as Vicuna', 'Warmth in contexts of comfort and coziness', 'Animal behavior sequences and ongoing actions', \"The character sequence 'pet' regardless of semantic meaning or language context\", 'Detailed descriptions of cat characteristics and behaviors', 'Cats as a central topic or theme', 'The physical act of sitting', \"The canonical English pangram 'The quick brown fox jumps over the lazy dog'\", 'Animal behavior sequences and ongoing actions', 'Inappropriate physical contact involving sitting on laps', 'Narrative descriptions of the act of sitting down or adjusting seating position', 'The assistant is beginning a step-by-step tutorial', \"The character sequence 'pet' regardless of semantic meaning or language context\", 'Characters sitting together in contemplative silence']\n",
            "Second JSON labels: ['Descriptions of cats lounging and engaging in daily activities', 'Content where cats are the primary subject matter', 'Generalizing statements about cat behaviors and traits', 'Grammatical constructions describing the act of sitting on furniture', \"Character sequence 'cat' across different languages and scripts\", 'Formal sitting positions, especially cross-legged and floor-based poses', 'Animals in creative or playful contexts', 'The quick brown fox pangram being used as sample text', 'Pet litter boxes and litter-related pet care', 'Detailed personification of animals in narrative text', 'Descriptions of cats lounging and engaging in daily activities', 'Content where cats are the primary subject matter', 'Generalizing statements about cat behaviors and traits', 'Grammatical constructions describing the act of sitting on furniture', 'Animals in creative or playful contexts', 'Animal sound puns and wordplay in furry roleplay contexts', \"Character sequence 'cat' across different languages and scripts\", 'Pets as loyal companions and family members', 'Expressions of desire or possibility to sleep/rest', 'Pet litter boxes and litter-related pet care', 'Descriptions of cats lounging and engaging in daily activities', 'Content where cats are the primary subject matter', 'Grammatical constructions describing the act of sitting on furniture', \"Character sequence 'cat' across different languages and scripts\", 'Generalizing statements about cat behaviors and traits', 'The position of being on all fours or hands and knees', 'Formal sitting positions, especially cross-legged and floor-based poses', 'Pet litter boxes and litter-related pet care', 'Person lying down or in reclined position', 'The quick brown fox pangram being used as sample text']\n"
          ]
        }
      ]
    },
    {
      "cell_type": "code",
      "source": [
        "from difflib import get_close_matches\n",
        "\n",
        "# Function to find close matches\n",
        "def find_close_matches(list1, list2, cutoff=0.6):\n",
        "    matches = {}\n",
        "    for label1 in list1:\n",
        "        close_matches = get_close_matches(label1, list2, n=3, cutoff=cutoff)\n",
        "        if close_matches:\n",
        "            matches[label1] = close_matches\n",
        "    return matches\n",
        "\n",
        "# Find close matches between the two label lists\n",
        "close_matches = find_close_matches(first_json_labels, second_json_labels)\n",
        "\n",
        "# Print close matches\n",
        "print(\"Close matches found:\", close_matches)"
      ],
      "metadata": {
        "colab": {
          "base_uri": "https://localhost:8080/"
        },
        "id": "V32erZItnfRR",
        "outputId": "b66d36ba-eb45-4a87-fe29-d046ed6f7a2b"
      },
      "execution_count": 28,
      "outputs": [
        {
          "output_type": "stream",
          "name": "stdout",
          "text": [
            "Close matches found: {\"The character sequence 'pet' regardless of semantic meaning or language context\": [\"Character sequence 'cat' across different languages and scripts\", \"Character sequence 'cat' across different languages and scripts\", \"Character sequence 'cat' across different languages and scripts\"]}\n"
          ]
        }
      ]
    },
    {
      "cell_type": "markdown",
      "source": [
        "**Matching Universal Features Across Both Models:**\n",
        "\n",
        "Label: \"The character sequence 'pet' regardless of semantic meaning or language context\"\n",
        "\n",
        "\n",
        "**Highly Similar Labels (Minor Variations)**\n",
        "\n",
        "Cats as a central topic or theme\n",
        "- Close match: \"Content where cats are the primary subject matter\"\n",
        "\n",
        "Detailed descriptions of cat characteristics and behaviors\n",
        "- Close match: \"Generalizing statements about cat behaviors and traits\"\n",
        "Close match: \"Descriptions of cats lounging and engaging in daily activities\"\n",
        "\n",
        "The substring 'cat' appearing within words across different languages\n",
        "- Close match: \"Character sequence 'cat' across different languages and scripts\"\n",
        "\n",
        "The canonical English pangram 'The quick brown fox jumps over the lazy dog'\n",
        "-Close match: \"The quick brown fox pangram being used as sample text\"\n",
        "\n",
        "The physical act of sitting\n",
        "- Close match: \"Grammatical constructions describing the act of sitting on furniture\"\n",
        "- Close match: \"Formal sitting positions, especially cross-legged and floor-based poses\"\n",
        "\n",
        "Loyal companionship in descriptions of pets\n",
        "- Close match: \"Pets as loyal companions and family members\""
      ],
      "metadata": {
        "id": "VtLqq5NhcrrW"
      }
    },
    {
      "cell_type": "code",
      "source": [],
      "metadata": {
        "id": "123-leFco1AX"
      },
      "execution_count": null,
      "outputs": []
    },
    {
      "cell_type": "markdown",
      "source": [
        "### Search for equivariance in features in Llama 70B\n",
        "\n",
        "Grammatical Transformations"
      ],
      "metadata": {
        "id": "KEgEUUdmo1Qm"
      }
    },
    {
      "cell_type": "code",
      "source": [
        "variant2.reset()\n",
        "phrases = [\"The chef cooked the meal.\", \"The meal was cooked by the chef.\"]\n",
        "all_features = []\n",
        "\n",
        "for i in phrases:\n",
        "  features = client.features.search(i, model=variant2, top_k=10)\n",
        "  feat_json = features.json()\n",
        "  all_features2.append(feat_json)\n",
        "\n",
        "all_features2"
      ],
      "metadata": {
        "colab": {
          "base_uri": "https://localhost:8080/"
        },
        "outputId": "22e64e37-b0e8-45ff-ead7-174fbb998333",
        "id": "HaDirUNoo1Qm"
      },
      "execution_count": 37,
      "outputs": [
        {
          "output_type": "execute_result",
          "data": {
            "text/plain": [
              "[{'features': [{'uuid': 'b67f40955335487688f9f44f7b465742',\n",
              "    'label': 'The act of cooking or preparing food',\n",
              "    'index_in_sae': 58799,\n",
              "    'max_activation_strength': 1},\n",
              "   {'uuid': 'e69cceeee450471683590dde3c50d1e7',\n",
              "    'label': 'French cooking instructions and recipe procedures',\n",
              "    'index_in_sae': 24040,\n",
              "    'max_activation_strength': 1},\n",
              "   {'uuid': '3516fe242bbb4ed38f17afd0f7e2d213',\n",
              "    'label': 'Cooking instruction verbs in recipes and food preparation procedures',\n",
              "    'index_in_sae': 56339,\n",
              "    'max_activation_strength': 1},\n",
              "   {'uuid': 'f2ac1a05150a4d2e867784f1b234f97b',\n",
              "    'label': 'Language emphasizing how quick and easy a dish is to prepare',\n",
              "    'index_in_sae': 47192,\n",
              "    'max_activation_strength': 1},\n",
              "   {'uuid': 'a94abf435b604070ac6e98c7bdfaeca1',\n",
              "    'label': 'Recipe formatting and cooking instructions',\n",
              "    'index_in_sae': 30762,\n",
              "    'max_activation_strength': 1},\n",
              "   {'uuid': '016836d5694e4d3c8d0d6f0d80f39101',\n",
              "    'label': 'Fish cooking instructions and culinary descriptions',\n",
              "    'index_in_sae': 55321,\n",
              "    'max_activation_strength': 1},\n",
              "   {'uuid': 'a8a1a200f5bb4fb8863df49a5e68b913',\n",
              "    'label': 'Recipe instructions for moving/transferring cooked ingredients',\n",
              "    'index_in_sae': 8439,\n",
              "    'max_activation_strength': 1},\n",
              "   {'uuid': 'b83c8081c7f14e52bf835d6d41e199c0',\n",
              "    'label': 'The assistant is about to provide recipe instructions',\n",
              "    'index_in_sae': 55173,\n",
              "    'max_activation_strength': 1},\n",
              "   {'uuid': '5b37f0ab64e04b2a8dfcb802dc161747',\n",
              "    'label': 'The assistant is about to provide recipe instructions',\n",
              "    'index_in_sae': 24660,\n",
              "    'max_activation_strength': 1},\n",
              "   {'uuid': '261f59a1e4ee4b759a77f2deb9adeb43',\n",
              "    'label': 'Recipe instructions and cooking process descriptions',\n",
              "    'index_in_sae': 40566,\n",
              "    'max_activation_strength': 1}]},\n",
              " {'features': [{'uuid': 'b67f40955335487688f9f44f7b465742',\n",
              "    'label': 'The act of cooking or preparing food',\n",
              "    'index_in_sae': 58799,\n",
              "    'max_activation_strength': 1},\n",
              "   {'uuid': '206e843ec241423bbdd7f626b9c86bbf',\n",
              "    'label': 'The assistant is providing or discussing a meal plan',\n",
              "    'index_in_sae': 15119,\n",
              "    'max_activation_strength': 1},\n",
              "   {'uuid': '261f59a1e4ee4b759a77f2deb9adeb43',\n",
              "    'label': 'Recipe instructions and cooking process descriptions',\n",
              "    'index_in_sae': 40566,\n",
              "    'max_activation_strength': 1},\n",
              "   {'uuid': 'f49c8fa351a744c59058227c8d01c105',\n",
              "    'label': 'Formal meal planning and dietary guidance',\n",
              "    'index_in_sae': 44544,\n",
              "    'max_activation_strength': 1},\n",
              "   {'uuid': '4403f77dcce244f783bbe4b760bcc187',\n",
              "    'label': 'The assistant should format its response as a recipe with standard cookbook formatting',\n",
              "    'index_in_sae': 9341,\n",
              "    'max_activation_strength': 1},\n",
              "   {'uuid': 'b83c8081c7f14e52bf835d6d41e199c0',\n",
              "    'label': 'The assistant is about to provide recipe instructions',\n",
              "    'index_in_sae': 55173,\n",
              "    'max_activation_strength': 1},\n",
              "   {'uuid': '5b37f0ab64e04b2a8dfcb802dc161747',\n",
              "    'label': 'The assistant is about to provide recipe instructions',\n",
              "    'index_in_sae': 24660,\n",
              "    'max_activation_strength': 1},\n",
              "   {'uuid': 'f2ac1a05150a4d2e867784f1b234f97b',\n",
              "    'label': 'Language emphasizing how quick and easy a dish is to prepare',\n",
              "    'index_in_sae': 47192,\n",
              "    'max_activation_strength': 1},\n",
              "   {'uuid': '016836d5694e4d3c8d0d6f0d80f39101',\n",
              "    'label': 'Fish cooking instructions and culinary descriptions',\n",
              "    'index_in_sae': 55321,\n",
              "    'max_activation_strength': 1},\n",
              "   {'uuid': 'e69cceeee450471683590dde3c50d1e7',\n",
              "    'label': 'French cooking instructions and recipe procedures',\n",
              "    'index_in_sae': 24040,\n",
              "    'max_activation_strength': 1}]},\n",
              " {'features': [{'uuid': 'b67f40955335487688f9f44f7b465742',\n",
              "    'label': 'The act of cooking or preparing food',\n",
              "    'index_in_sae': 58799,\n",
              "    'max_activation_strength': 1},\n",
              "   {'uuid': 'e69cceeee450471683590dde3c50d1e7',\n",
              "    'label': 'French cooking instructions and recipe procedures',\n",
              "    'index_in_sae': 24040,\n",
              "    'max_activation_strength': 1},\n",
              "   {'uuid': '3516fe242bbb4ed38f17afd0f7e2d213',\n",
              "    'label': 'Cooking instruction verbs in recipes and food preparation procedures',\n",
              "    'index_in_sae': 56339,\n",
              "    'max_activation_strength': 1},\n",
              "   {'uuid': 'f2ac1a05150a4d2e867784f1b234f97b',\n",
              "    'label': 'Language emphasizing how quick and easy a dish is to prepare',\n",
              "    'index_in_sae': 47192,\n",
              "    'max_activation_strength': 1},\n",
              "   {'uuid': 'a94abf435b604070ac6e98c7bdfaeca1',\n",
              "    'label': 'Recipe formatting and cooking instructions',\n",
              "    'index_in_sae': 30762,\n",
              "    'max_activation_strength': 1},\n",
              "   {'uuid': '016836d5694e4d3c8d0d6f0d80f39101',\n",
              "    'label': 'Fish cooking instructions and culinary descriptions',\n",
              "    'index_in_sae': 55321,\n",
              "    'max_activation_strength': 1},\n",
              "   {'uuid': 'a8a1a200f5bb4fb8863df49a5e68b913',\n",
              "    'label': 'Recipe instructions for moving/transferring cooked ingredients',\n",
              "    'index_in_sae': 8439,\n",
              "    'max_activation_strength': 1},\n",
              "   {'uuid': 'b83c8081c7f14e52bf835d6d41e199c0',\n",
              "    'label': 'The assistant is about to provide recipe instructions',\n",
              "    'index_in_sae': 55173,\n",
              "    'max_activation_strength': 1},\n",
              "   {'uuid': '5b37f0ab64e04b2a8dfcb802dc161747',\n",
              "    'label': 'The assistant is about to provide recipe instructions',\n",
              "    'index_in_sae': 24660,\n",
              "    'max_activation_strength': 1},\n",
              "   {'uuid': '261f59a1e4ee4b759a77f2deb9adeb43',\n",
              "    'label': 'Recipe instructions and cooking process descriptions',\n",
              "    'index_in_sae': 40566,\n",
              "    'max_activation_strength': 1}]},\n",
              " {'features': [{'uuid': 'b67f40955335487688f9f44f7b465742',\n",
              "    'label': 'The act of cooking or preparing food',\n",
              "    'index_in_sae': 58799,\n",
              "    'max_activation_strength': 1},\n",
              "   {'uuid': '206e843ec241423bbdd7f626b9c86bbf',\n",
              "    'label': 'The assistant is providing or discussing a meal plan',\n",
              "    'index_in_sae': 15119,\n",
              "    'max_activation_strength': 1},\n",
              "   {'uuid': '261f59a1e4ee4b759a77f2deb9adeb43',\n",
              "    'label': 'Recipe instructions and cooking process descriptions',\n",
              "    'index_in_sae': 40566,\n",
              "    'max_activation_strength': 1},\n",
              "   {'uuid': 'f49c8fa351a744c59058227c8d01c105',\n",
              "    'label': 'Formal meal planning and dietary guidance',\n",
              "    'index_in_sae': 44544,\n",
              "    'max_activation_strength': 1},\n",
              "   {'uuid': '4403f77dcce244f783bbe4b760bcc187',\n",
              "    'label': 'The assistant should format its response as a recipe with standard cookbook formatting',\n",
              "    'index_in_sae': 9341,\n",
              "    'max_activation_strength': 1},\n",
              "   {'uuid': 'b83c8081c7f14e52bf835d6d41e199c0',\n",
              "    'label': 'The assistant is about to provide recipe instructions',\n",
              "    'index_in_sae': 55173,\n",
              "    'max_activation_strength': 1},\n",
              "   {'uuid': '5b37f0ab64e04b2a8dfcb802dc161747',\n",
              "    'label': 'The assistant is about to provide recipe instructions',\n",
              "    'index_in_sae': 24660,\n",
              "    'max_activation_strength': 1},\n",
              "   {'uuid': 'f2ac1a05150a4d2e867784f1b234f97b',\n",
              "    'label': 'Language emphasizing how quick and easy a dish is to prepare',\n",
              "    'index_in_sae': 47192,\n",
              "    'max_activation_strength': 1},\n",
              "   {'uuid': '016836d5694e4d3c8d0d6f0d80f39101',\n",
              "    'label': 'Fish cooking instructions and culinary descriptions',\n",
              "    'index_in_sae': 55321,\n",
              "    'max_activation_strength': 1},\n",
              "   {'uuid': 'e69cceeee450471683590dde3c50d1e7',\n",
              "    'label': 'French cooking instructions and recipe procedures',\n",
              "    'index_in_sae': 24040,\n",
              "    'max_activation_strength': 1}]}]"
            ]
          },
          "metadata": {},
          "execution_count": 37
        }
      ]
    },
    {
      "cell_type": "code",
      "source": [
        "# Extract labels from the first JSON\n",
        "first_json_labels = []\n",
        "group = all_features2[0]\n",
        "for feature in group['features']:\n",
        "    first_json_labels.append(feature['label'])\n",
        "\n",
        "# Extract labels from the second JSON\n",
        "second_json_labels = []\n",
        "group = all_features2[1]\n",
        "for feature in group['features']:\n",
        "    second_json_labels.append(feature['label'])\n",
        "\n",
        "# Print the extracted labels\n",
        "print(\"First JSON labels:\", first_json_labels)\n",
        "print(\"Second JSON labels:\", second_json_labels)"
      ],
      "metadata": {
        "colab": {
          "base_uri": "https://localhost:8080/"
        },
        "outputId": "6ef0be4d-ed04-4cfc-e357-8edb3d968e07",
        "id": "xfiwo2oso1Qm"
      },
      "execution_count": 38,
      "outputs": [
        {
          "output_type": "stream",
          "name": "stdout",
          "text": [
            "First JSON labels: ['The act of cooking or preparing food', 'French cooking instructions and recipe procedures', 'Cooking instruction verbs in recipes and food preparation procedures', 'Language emphasizing how quick and easy a dish is to prepare', 'Recipe formatting and cooking instructions', 'Fish cooking instructions and culinary descriptions', 'Recipe instructions for moving/transferring cooked ingredients', 'The assistant is about to provide recipe instructions', 'The assistant is about to provide recipe instructions', 'Recipe instructions and cooking process descriptions']\n",
            "Second JSON labels: ['The act of cooking or preparing food', 'The assistant is providing or discussing a meal plan', 'Recipe instructions and cooking process descriptions', 'Formal meal planning and dietary guidance', 'The assistant should format its response as a recipe with standard cookbook formatting', 'The assistant is about to provide recipe instructions', 'The assistant is about to provide recipe instructions', 'Language emphasizing how quick and easy a dish is to prepare', 'Fish cooking instructions and culinary descriptions', 'French cooking instructions and recipe procedures']\n"
          ]
        }
      ]
    },
    {
      "cell_type": "code",
      "source": [
        "from difflib import get_close_matches\n",
        "\n",
        "# Function to find close matches\n",
        "def find_close_matches(list1, list2, cutoff=1):\n",
        "    matches = {}\n",
        "    for label1 in list1:\n",
        "        close_matches = get_close_matches(label1, list2, n=3, cutoff=cutoff)\n",
        "        if close_matches:\n",
        "            matches[label1] = close_matches\n",
        "    return matches\n",
        "\n",
        "# Find close matches between the two label lists\n",
        "close_matches = find_close_matches(first_json_labels, second_json_labels)\n",
        "\n",
        "# Print close matches\n",
        "print(\"Close matches found:\", close_matches)"
      ],
      "metadata": {
        "colab": {
          "base_uri": "https://localhost:8080/"
        },
        "outputId": "8de53a97-25d0-477f-f6f3-343d87d7a6c2",
        "id": "RaO_il39o1Qo"
      },
      "execution_count": 41,
      "outputs": [
        {
          "output_type": "stream",
          "name": "stdout",
          "text": [
            "Close matches found: {'The act of cooking or preparing food': ['The act of cooking or preparing food'], 'French cooking instructions and recipe procedures': ['French cooking instructions and recipe procedures'], 'Language emphasizing how quick and easy a dish is to prepare': ['Language emphasizing how quick and easy a dish is to prepare'], 'Fish cooking instructions and culinary descriptions': ['Fish cooking instructions and culinary descriptions'], 'The assistant is about to provide recipe instructions': ['The assistant is about to provide recipe instructions', 'The assistant is about to provide recipe instructions'], 'Recipe instructions and cooking process descriptions': ['Recipe instructions and cooking process descriptions']}\n"
          ]
        }
      ]
    },
    {
      "cell_type": "markdown",
      "source": [
        "**Equivariant features in Llama 70B - 6/10:**\n",
        "\n",
        "The act of cooking or preparing food\n",
        "\n",
        "French cooking instructions and recipe procedure\n",
        "\n",
        "Language emphasizing how quick and easy a dish is to prepare\n",
        "\n",
        "Fish cooking instructions and culinary descriptions\n",
        "\n",
        "The assistant is about to provide recipe instructions\n",
        "\n",
        "Recipe instructions and cooking process descriptions\n",
        "\n"
      ],
      "metadata": {
        "id": "TGv1_ajBo1Qp"
      }
    }
  ],
  "metadata": {
    "colab": {
      "provenance": [],
      "collapsed_sections": [
        "XdmgynVO93kU",
        "9ZJqRmbd93kU",
        "91a29oN7F56u",
        "2aQ-Oauo93kV"
      ],
      "include_colab_link": true
    },
    "kernelspec": {
      "display_name": "cajal-GpC6YlH4-py3.12",
      "language": "python",
      "name": "python3"
    },
    "language_info": {
      "codemirror_mode": {
        "name": "ipython",
        "version": 3
      },
      "file_extension": ".py",
      "mimetype": "text/x-python",
      "name": "python",
      "nbconvert_exporter": "python",
      "pygments_lexer": "ipython3",
      "version": "3.11.6"
    },
    "orig_nbformat": 4
  },
  "nbformat": 4,
  "nbformat_minor": 0
}